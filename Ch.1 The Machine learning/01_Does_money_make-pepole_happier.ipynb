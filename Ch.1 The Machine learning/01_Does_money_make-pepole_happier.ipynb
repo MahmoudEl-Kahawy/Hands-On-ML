{
  "nbformat": 4,
  "nbformat_minor": 0,
  "metadata": {
    "colab": {
      "name": "Ch1 Hands on.ipynb",
      "provenance": [],
      "authorship_tag": "ABX9TyP7G8bQjej/uZENJqUFnuaE",
      "include_colab_link": true
    },
    "kernelspec": {
      "name": "python3",
      "display_name": "Python 3"
    },
    "language_info": {
      "name": "python"
    }
  },
  "cells": [
    {
      "cell_type": "markdown",
      "metadata": {
        "id": "view-in-github",
        "colab_type": "text"
      },
      "source": [
        "<a href=\"https://colab.research.google.com/github/MahmoudEl-Kahawy/Hands-On-ML/blob/main/Ch.1%20The%20Machine%20learning/01_Does_money_make-pepole_happier.ipynb\" target=\"_parent\"><img src=\"https://colab.research.google.com/assets/colab-badge.svg\" alt=\"Open In Colab\"/></a>"
      ]
    },
    {
      "cell_type": "code",
      "execution_count": 2,
      "metadata": {
        "id": "5O8SpYzajNb1",
        "outputId": "c119fe74-a613-4532-bd90-19441dfcdbfa",
        "colab": {
          "base_uri": "https://localhost:8080/"
        }
      },
      "outputs": [
        {
          "output_type": "stream",
          "name": "stdout",
          "text": [
            "hello Git\n"
          ]
        }
      ],
      "source": [
        "print('hello Git')"
      ]
    },
    {
      "cell_type": "code",
      "source": [
        ""
      ],
      "metadata": {
        "id": "3Y0cNhBcv9MK"
      },
      "execution_count": null,
      "outputs": []
    }
  ]
}