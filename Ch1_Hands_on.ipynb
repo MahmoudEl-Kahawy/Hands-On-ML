{
  "nbformat": 4,
  "nbformat_minor": 0,
  "metadata": {
    "colab": {
      "name": "Ch1 Hands on.ipynb",
      "provenance": [],
      "authorship_tag": "ABX9TyMX7Cx58Lhh4cdxogvuaeZR",
      "include_colab_link": true
    },
    "kernelspec": {
      "name": "python3",
      "display_name": "Python 3"
    },
    "language_info": {
      "name": "python"
    }
  },
  "cells": [
    {
      "cell_type": "markdown",
      "metadata": {
        "id": "view-in-github",
        "colab_type": "text"
      },
      "source": [
        "<a href=\"https://colab.research.google.com/github/MahmoudEl-Kahawy/Hands-On-ML/blob/main/Ch1_Hands_on.ipynb\" target=\"_parent\"><img src=\"https://colab.research.google.com/assets/colab-badge.svg\" alt=\"Open In Colab\"/></a>"
      ]
    },
    {
      "cell_type": "code",
      "execution_count": null,
      "metadata": {
        "id": "5O8SpYzajNb1"
      },
      "outputs": [],
      "source": [
        ""
      ]
    }
  ]
}